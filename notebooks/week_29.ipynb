{
 "cells": [
  {
   "cell_type": "markdown",
   "metadata": {},
   "source": [
    "# figure friday 2024-07-20\n",
    "\n",
    "playing with plotly to figure out getting figures out. week two: women's football.\n",
    "\n",
    "see forum post [here for details](https://community.plotly.com/t/figure-friday-2024-week-29/85928). \n",
    "our [data set is given here](https://github.com/plotly/Figure-Friday/tree/main/2024/week-29) \n",
    "and the task is open-ended: just play with it and make a figure!\n",
    "this is an excellent playground. so let us play."
   ]
  },
  {
   "cell_type": "markdown",
   "metadata": {},
   "source": []
  }
 ],
 "metadata": {
  "language_info": {
   "name": "python"
  }
 },
 "nbformat": 4,
 "nbformat_minor": 2
}
